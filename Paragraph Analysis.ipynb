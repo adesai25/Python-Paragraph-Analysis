{
 "cells": [
  {
   "cell_type": "code",
   "execution_count": null,
   "metadata": {},
   "outputs": [],
   "source": [
    "# HW Option #4\n",
    "# Approximate word count\n",
    "# Approximate sentence count\n",
    "# Approximate letter count (per word)\n",
    "# Average sentence length (in words)"
   ]
  },
  {
   "cell_type": "code",
   "execution_count": null,
   "metadata": {},
   "outputs": [],
   "source": [
    "f = open('hpexerpt.txt','r')\n",
    "message = f.read()\n",
    "print(message)\n",
    "f.close()"
   ]
  },
  {
   "cell_type": "code",
   "execution_count": null,
   "metadata": {},
   "outputs": [],
   "source": [
    "#Define variables\n",
    "numchars = 0\n",
    "wordslist = 0\n",
    "numwords = 0\n",
    "wordlen = 0\n",
    "sentnum = 0\n",
    "average = 0"
   ]
  },
  {
   "cell_type": "code",
   "execution_count": null,
   "metadata": {},
   "outputs": [],
   "source": [
    "# #use for loop\n",
    "\n",
    "with open('hpexerpt.txt','r') as file:\n",
    "    for line in file:\n",
    "        wordslist = line.split()\n",
    "        numwords += len(wordslist)\n",
    "        numchars += len(line) # getting length of the line on each iteration \n",
    "        wordlen = numchars/numwords\n",
    "        average = sum(len(word) for word in wordslist)/len(wordslist)\n",
    "        #avgsent = \n",
    "#now the output\n",
    "\n",
    "\n",
    "\n",
    "#print the statments\n",
    "print(\"-----------------------------------\")\n",
    "\n",
    "print(\"Paragraph Analysis\")\n",
    "\n",
    "print(\"-----------------------------------\")\n",
    "\n",
    "print(\"Approximate number of words: \", numwords)\n",
    "\n",
    "print(\"Approximate letter count (per word): \", \"%.2f\" % wordlen)\n",
    "\n",
    "print (\"Approximate sentence count: \", open('hpexerpt.txt','r').read().count(\".\"))\n",
    "with open ('hpexerpt.txt') as f:\n",
    "    data = f.read()\n",
    "\n",
    "print (\"Average sentence length (in words) \", \"%.2f\" % average)"
   ]
  }
 ],
 "metadata": {
  "kernelspec": {
   "display_name": "Python [conda env:PythonData1]",
   "language": "python",
   "name": "conda-env-PythonData1-py"
  },
  "language_info": {
   "codemirror_mode": {
    "name": "ipython",
    "version": 3
   },
   "file_extension": ".py",
   "mimetype": "text/x-python",
   "name": "python",
   "nbconvert_exporter": "python",
   "pygments_lexer": "ipython3",
   "version": "3.6.4"
  }
 },
 "nbformat": 4,
 "nbformat_minor": 2
}
